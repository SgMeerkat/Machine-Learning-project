{
 "cells": [
  {
   "cell_type": "code",
   "execution_count": 21,
   "id": "1d78db2e",
   "metadata": {},
   "outputs": [
    {
     "name": "stdout",
     "output_type": "stream",
     "text": [
      "Player salary    0.867615\n",
      "FG               0.631526\n",
      "PTS              0.630554\n",
      "FGA              0.621116\n",
      "2PA              0.620273\n",
      "2P               0.619159\n",
      "FTA              0.596234\n",
      "FT               0.589748\n",
      "MP               0.587735\n",
      "TOV              0.569261\n",
      "Name: %_of_cap, dtype: float64\n"
     ]
    }
   ],
   "source": [
    "import pandas as pd\n",
    "import pandas as pd\n",
    "import seaborn as sns\n",
    "import matplotlib.pyplot as plt\n",
    "\n",
    "# Load the CSV file into a data frame\n",
    "df = pd.read_csv('C:/Users/Dell/Documents/Business Analytics Year 4/Applied Predictive Analytics DATA4001 2022-23/final4.csv')\n",
    "# Calculate the correlations with the \"%_of_cap\" column\n",
    "correlations = df.corr()[\"%_of_cap\"].sort_values(ascending=False)\n",
    "\n",
    "# Print the top 10 most highly correlated columns\n",
    "print(correlations[1:11])\n"
   ]
  },
  {
   "cell_type": "code",
   "execution_count": 22,
   "id": "5347ec0d",
   "metadata": {},
   "outputs": [
    {
     "name": "stdout",
     "output_type": "stream",
     "text": [
      "FG     0.631526\n",
      "PTS    0.630554\n",
      "FGA    0.621116\n",
      "2PA    0.620273\n",
      "2P     0.619159\n",
      "FTA    0.596234\n",
      "FT     0.589748\n",
      "DRB    0.569192\n",
      "TRB    0.528390\n",
      "AST    0.439466\n",
      "Name: %_of_cap, dtype: float64\n"
     ]
    }
   ],
   "source": [
    "#drop the data that is a product of salary and or a product of Minutes played\n",
    "df = df.drop(columns=[\"Player salary\", \"Salary Cap\", \"Rk\", \"MP\", \"TOV\", \"GS\"])\n",
    "# Calculate the correlations with the \"%_of_cap\" column\n",
    "correlations = df.corr()[\"%_of_cap\"].sort_values(ascending=False)\n",
    "\n",
    "# Print the top 10 most highly correlated columns\n",
    "print(correlations[1:11])\n"
   ]
  },
  {
   "cell_type": "code",
   "execution_count": 23,
   "id": "07042b00",
   "metadata": {},
   "outputs": [],
   "source": [
    "# Create the subcategories\n",
    "offence = df[[\"FGA\", \"FG%\", \"3P\", \"3P%\", \"2P\", \"2P%\", \"FTA\", \"FT%\", \"ORB\", \"AST\"]]\n",
    "defence = df[[\"DRB\", \"BLK\", \"STL\", \"TRB\"]]\n",
    "best = df[[\"FG\", \"PTS\", \"FGA\", \"2PA\", \"2P\", \"FTA\", \"FT\", \"DRB\", \"TRB\", \"AST\"]]"
   ]
  },
  {
   "cell_type": "code",
   "execution_count": 24,
   "id": "ff3a11ce",
   "metadata": {},
   "outputs": [],
   "source": [
    "\n",
    "import pandas as pd\n",
    "from sklearn.linear_model import LinearRegression\n",
    "import numpy as np\n",
    "from sklearn.metrics import mean_squared_error\n",
    "from sklearn.metrics import r2_score\n",
    "\n",
    "# Load the CSV file into a data frame\n",
    "df2 = pd.read_csv('C:/Users/Dell/Documents/Business Analytics Year 4/Applied Predictive Analytics DATA4001 2022-23/final4.csv')\n",
    "df2 = df2.drop(columns=[\"Player salary\", \"Salary Cap\", \"Rk\", \"MP\", \"TOV\", \"GS\"])\n",
    "# Create the subcategories\n",
    "offence = df2[[\"FGA\", \"FG%\", \"3P\", \"3P%\", \"2P\", \"2P%\", \"FTA\", \"FT%\", \"ORB\", \"AST\"]]\n",
    "defence = df2[[\"DRB\", \"BLK\", \"STL\", \"TRB\"]]\n",
    "best = df2[[\"FG\", \"PTS\", \"FGA\", \"2PA\", \"2P\", \"FTA\", \"FT\", \"DRB\", \"TRB\", \"AST\"]]\n"
   ]
  },
  {
   "cell_type": "code",
   "execution_count": 25,
   "id": "68347fad",
   "metadata": {},
   "outputs": [
    {
     "name": "stdout",
     "output_type": "stream",
     "text": [
      "Offence MSE: 0.0027469338336743943\n",
      "Offence AMSE: 0.002750734622626648\n",
      "Offence RMSE: 0.05241119950615893\n",
      "Offence r^2: 0.4310852894888233\n",
      "Defence MSE: 0.003071145885400446\n",
      "Defence AMSE: 0.0030730759670277714\n",
      "Defence RMSE: 0.0554179202550984\n",
      "Defence r^2: 0.363938056712111\n",
      "Best MSE: 0.00262400150049365\n",
      "Best AMSE: 0.002627632194393704\n",
      "Best RMSE: 0.05122500854556932\n",
      "Best r^2: 0.45654568168561505\n",
      "Total Sample Size: 7961\n"
     ]
    }
   ],
   "source": [
    "\n",
    "# Fit a linear regression model on the \"offence\" subcategory\n",
    "X = offence\n",
    "y = df2[\"%_of_cap\"]\n",
    "model = LinearRegression()\n",
    "model.fit(X, y)\n",
    "\n",
    "# Make predictions on the \"offence\" subcategory\n",
    "y_pred = model.predict(X)\n",
    "\n",
    "# Calculate the RMSE and r^2 for the \"offence\" subcategory\n",
    "rmse = np.sqrt(mean_squared_error(y, y_pred))\n",
    "r2 = r2_score(y, y_pred)\n",
    "# Calculate the MSE for the \"offence\" subcategory\n",
    "mse = mean_squared_error(y, y_pred)\n",
    "\n",
    "# Calculate the degrees of freedom for the \"offence\" subcategory model\n",
    "df = len(y) - len(model.coef_) - 1\n",
    "\n",
    "# Calculate the sample size\n",
    "n = len(y)\n",
    "\n",
    "# Calculate the AMSE for the \"offence\" subcategory model\n",
    "amse = mse / df * n\n",
    "\n",
    "# Print the MSE, AMSE, DF, and sample size for the \"offence\" subcategory model\n",
    "print(\"Offence MSE:\", mse)\n",
    "print(\"Offence AMSE:\", amse)\n",
    "# Print the RMSE and r^2 for the \"offence\" subcategory\n",
    "print(\"Offence RMSE:\", rmse)\n",
    "print(\"Offence r^2:\", r2)\n",
    "\n",
    "# Fit a linear regression model on the \"defence\" subcategory\n",
    "X = defence\n",
    "y = df2[\"%_of_cap\"]\n",
    "model = LinearRegression()\n",
    "model.fit(X, y)\n",
    "\n",
    "# Make predictions on the \"defence\" subcategory\n",
    "y_pred = model.predict(X)\n",
    "\n",
    "# Calculate the RMSE and r^2 for the \"defence\" subcategory\n",
    "rmse = np.sqrt(mean_squared_error(y, y_pred))\n",
    "r2 = r2_score(y, y_pred)\n",
    "# Calculate the MSE for the \"Defence\" subcategory\n",
    "mse = mean_squared_error(y, y_pred)\n",
    "\n",
    "# Calculate the degrees of freedom for the \"Defence\" subcategory model\n",
    "df = len(y) - len(model.coef_) - 1\n",
    "\n",
    "\n",
    "# Calculate the AMSE for the \"Defence\" subcategory model\n",
    "amse = mse / df * n\n",
    "\n",
    "# Print the MSE, AMSE, DF, and sample size for the \"Defence\" subcategory model\n",
    "print(\"Defence MSE:\", mse)\n",
    "print(\"Defence AMSE:\", amse)\n",
    "# Print the RMSE and r^2 for the \"offence\" subcategory\n",
    "print(\"Defence RMSE:\", rmse)\n",
    "print(\"Defence r^2:\", r2)\n",
    "\n",
    "# Fit a linear regression model on the \"Best\" subcategory\n",
    "X = best\n",
    "y = df2[\"%_of_cap\"]\n",
    "model = LinearRegression()\n",
    "model.fit(X, y)\n",
    "\n",
    "# Make predictions on the \"Best\" subcategory\n",
    "y_pred = model.predict(X)\n",
    "\n",
    "# Calculate the RMSE and r^2 for the \"Best\" subcategory\n",
    "rmse = np.sqrt(mean_squared_error(y, y_pred))\n",
    "r2 = r2_score(y, y_pred)\n",
    "# Calculate the MSE for the \"Best\" subcategory\n",
    "mse = mean_squared_error(y, y_pred)\n",
    "\n",
    "# Calculate the degrees of freedom for the \"Best\" subcategory model\n",
    "df = len(y) - len(model.coef_) - 1\n",
    "\n",
    "# Calculate the AMSE for the \"Best\" subcategory model\n",
    "amse = mse / df * n\n",
    "\n",
    "# Print the MSE, AMSE, DF, and sample size for the \"Best\" subcategory model\n",
    "print(\"Best MSE:\", mse)\n",
    "print(\"Best AMSE:\", amse)\n",
    "# Print the RMSE and r^2 for the \"Best\" subcategory\n",
    "print(\"Best RMSE:\", rmse)\n",
    "print(\"Best r^2:\", r2)\n",
    "print(\"Total Sample Size:\", n)"
   ]
  },
  {
   "cell_type": "code",
   "execution_count": 26,
   "id": "de874a8e",
   "metadata": {},
   "outputs": [
    {
     "data": {
      "image/png": "[encoded data removed]",
      "text/plain": [
       "<Figure size 432x288 with 1 Axes>"
      ]
     },
     "metadata": {
      "needs_background": "light"
     },
     "output_type": "display_data"
    }
   ],
   "source": [
    "import matplotlib.pyplot as plt\n",
    "\n",
    "# Select the top 10 most highly correlated columns\n",
    "top_10_correlations = correlations[1:11]\n",
    "\n",
    "# Get the column names\n",
    "column_names = top_10_correlations.index\n",
    "\n",
    "# Get the values of the top 10 correlations\n",
    "values = top_10_correlations.values\n",
    "\n",
    "# Create a bar chart\n",
    "plt.bar(column_names, values)\n",
    "\n",
    "# Add a title and axis labels\n",
    "plt.title('Top 10 Most Highly Correlated Columns with \"%_of_cap\"')\n",
    "plt.xlabel('Column Name')\n",
    "plt.ylabel('Correlation with \"%_of_cap\"')\n",
    "\n",
    "# Show the plot\n",
    "plt.show()\n"
   ]
  },
  {
   "cell_type": "code",
   "execution_count": 27,
   "id": "bd4db374",
   "metadata": {},
   "outputs": [
    {
     "name": "stdout",
     "output_type": "stream",
     "text": [
      "Player salary    0.867615\n",
      "FG               0.631526\n",
      "PTS              0.630554\n",
      "FGA              0.621116\n",
      "2PA              0.620273\n",
      "2P               0.619159\n",
      "FTA              0.596234\n",
      "FT               0.589748\n",
      "MP               0.587735\n",
      "TOV              0.569261\n",
      "Name: %_of_cap, dtype: float64\n",
      "FG     0.631526\n",
      "PTS    0.630554\n",
      "FGA    0.621116\n",
      "2PA    0.620273\n",
      "2P     0.619159\n",
      "FTA    0.596234\n",
      "FT     0.589748\n",
      "DRB    0.569192\n",
      "TRB    0.528390\n",
      "AST    0.439466\n",
      "Name: %_of_cap, dtype: float64\n"
     ]
    },
    {
     "data": {
      "image/png": "[encoded data removed]",
      "text/plain": [
       "<Figure size 432x288 with 2 Axes>"
      ]
     },
     "metadata": {
      "needs_background": "light"
     },
     "output_type": "display_data"
    }
   ],
   "source": [
    "import pandas as pd\n",
    "\n",
    "# Load the CSV file into a data frame\n",
    "df_original = pd.read_csv('C:/Users/Dell/Documents/Business Analytics Year 4/Applied Predictive Analytics DATA4001 2022-23/final4.csv')\n",
    "\n",
    "# Calculate the correlations with the \"%_of_cap\" column\n",
    "correlations = df_original.corr()[\"%_of_cap\"].sort_values(ascending=False)\n",
    "\n",
    "# Print the top 10 most highly correlated columns\n",
    "print(correlations[1:11])\n",
    "\n",
    "# Drop the data that is a product of salary and or a product of Minutes played\n",
    "df_processed = df_original.drop(columns=[\"Player salary\", \"Salary Cap\", \"Rk\", \"MP\", \"TOV\", \"GS\"])\n",
    "\n",
    "# Calculate the correlations with the \"%_of_cap\" column\n",
    "correlations = df_processed.corr()[\"%_of_cap\"].sort_values(ascending=False)\n",
    "\n",
    "# Print the top 10 most highly correlated columns\n",
    "print(correlations[1:11])\n",
    "\n",
    "# Create a heatmap of the correlations\n",
    "sns.heatmap(df_processed.corr(), cmap='YlGnBu')\n",
    "\n",
    "# Add a title\n",
    "plt.title('Correlations between Columns')\n",
    "\n",
    "# Show the plot\n",
    "plt.show()\n"
   ]
  },
  {
   "cell_type": "code",
   "execution_count": 28,
   "id": "e513fa36",
   "metadata": {},
   "outputs": [
    {
     "name": "stdout",
     "output_type": "stream",
     "text": [
      "MSE: 0.0029518677895425225\n",
      "AMSE: 0.0029518677895425225\n",
      "RMSE: 0.054331094131652845\n",
      "R^2: 0.4159713789986976\n"
     ]
    }
   ],
   "source": [
    "\n",
    "from sklearn.model_selection import train_test_split\n",
    "\n",
    "# split the \"offence\" subcategory into train and test sets\n",
    "X_train, X_test, y_train, y_test = train_test_split(offence, df2[\"%_of_cap\"], test_size=0.2, random_state=0)\n",
    "\n",
    "\n",
    "# create a linear regression model\n",
    "model = LinearRegression()\n",
    "\n",
    "# fit the model to the training data\n",
    "model.fit(X_train, y_train)\n",
    "\n",
    "# make predictions on the test data\n",
    "y_pred = model.predict(X_test)\n",
    "\n",
    "# calculate the MSE, AMSE, RMSE, and R^2 score for each subcategory\n",
    "mse = mean_squared_error(y_test, y_pred)\n",
    "amse = np.mean(mean_squared_error(y_test, y_pred))\n",
    "rmse = np.sqrt(mean_squared_error(y_test, y_pred))\n",
    "r2 = r2_score(y_test, y_pred)\n",
    "\n",
    "print(\"MSE:\", mse)\n",
    "print(\"AMSE:\", amse)\n",
    "print(\"RMSE:\", rmse)\n",
    "print(\"R^2:\", r2)\n"
   ]
  },
  {
   "cell_type": "code",
   "execution_count": 29,
   "id": "25aa74b7",
   "metadata": {},
   "outputs": [
    {
     "name": "stdout",
     "output_type": "stream",
     "text": [
      "MSE: 0.003183856298402875\n",
      "AMSE: 0.003183856298402875\n",
      "RMSE: 0.05642567056227932\n",
      "R^2: 0.3700723284389644\n"
     ]
    }
   ],
   "source": [
    "# split the \"defence\" subcategory into train and test sets\n",
    "X_train, X_test, y_train, y_test = train_test_split(defence, df2[\"%_of_cap\"], test_size=0.2, random_state=0)\n",
    "# create a linear regression model\n",
    "model = LinearRegression()\n",
    "\n",
    "# fit the model to the training data\n",
    "model.fit(X_train, y_train)\n",
    "\n",
    "# make predictions on the test data\n",
    "y_pred = model.predict(X_test)\n",
    "\n",
    "# calculate the MSE, AMSE, RMSE, and R^2 score for each subcategory\n",
    "mse = mean_squared_error(y_test, y_pred)\n",
    "amse = np.mean(mean_squared_error(y_test, y_pred))\n",
    "rmse = np.sqrt(mean_squared_error(y_test, y_pred))\n",
    "r2 = r2_score(y_test, y_pred)\n",
    "\n",
    "print(\"MSE:\", mse)\n",
    "print(\"AMSE:\", amse)\n",
    "print(\"RMSE:\", rmse)\n",
    "print(\"R^2:\", r2)\n"
   ]
  },
  {
   "cell_type": "code",
   "execution_count": 30,
   "id": "c137e3f6",
   "metadata": {},
   "outputs": [
    {
     "name": "stdout",
     "output_type": "stream",
     "text": [
      "MSE: 0.002793487424307408\n",
      "AMSE: 0.002793487424307408\n",
      "RMSE: 0.05285345234048017\n",
      "R^2: 0.4473070189720183\n"
     ]
    }
   ],
   "source": [
    "# split the \"best\" subcategory into train and test sets\n",
    "X_train, X_test, y_train, y_test = train_test_split(best, df2[\"%_of_cap\"], test_size=0.2, random_state=0)\n",
    "# create a linear regression model\n",
    "model = LinearRegression()\n",
    "\n",
    "# fit the model to the training data\n",
    "model.fit(X_train, y_train)\n",
    "\n",
    "# make predictions on the test data\n",
    "y_pred = model.predict(X_test)\n",
    "\n",
    "# calculate the MSE, AMSE, RMSE, and R^2 score for each subcategory\n",
    "mse = mean_squared_error(y_test, y_pred)\n",
    "amse = np.mean(mean_squared_error(y_test, y_pred))\n",
    "rmse = np.sqrt(mean_squared_error(y_test, y_pred))\n",
    "r2 = r2_score(y_test, y_pred)\n",
    "\n",
    "print(\"MSE:\", mse)\n",
    "print(\"AMSE:\", amse)\n",
    "print(\"RMSE:\", rmse)\n",
    "print(\"R^2:\", r2)"
   ]
  },
  {
   "cell_type": "code",
   "execution_count": null,
   "id": "118238b3",
   "metadata": {},
   "outputs": [],
   "source": []
  },
  {
   "cell_type": "code",
   "execution_count": null,
   "id": "1ed95afc",
   "metadata": {},
   "outputs": [],
   "source": []
  }
 ],
 "metadata": {
  "kernelspec": {
   "display_name": "Python 3 (ipykernel)",
   "language": "python",
   "name": "python3"
  },
  "language_info": {
   "codemirror_mode": {
    "name": "ipython",
    "version": 3
   },
   "file_extension": ".py",
   "mimetype": "text/x-python",
   "name": "python",
   "nbconvert_exporter": "python",
   "pygments_lexer": "ipython3",
   "version": "3.9.7"
  }
 },
 "nbformat": 4,
 "nbformat_minor": 5
}
