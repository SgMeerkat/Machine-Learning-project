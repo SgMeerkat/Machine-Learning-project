{
 "cells": [
  {
   "cell_type": "code",
   "execution_count": 2,
   "id": "9062a70e",
   "metadata": {},
   "outputs": [],
   "source": [
    "import pandas as pd\n",
    "from sklearn.linear_model import LinearRegression\n",
    "import numpy as np\n",
    "from sklearn.metrics import mean_squared_error\n",
    "from sklearn.metrics import r2_score\n",
    "from sklearn.model_selection import train_test_split\n",
    "\n",
    "\n",
    "# Load the CSV file into a data frame\n",
    "df2 = pd.read_csv('C:/Users/Dell/Documents/Business Analytics Year 4/Applied Predictive Analytics DATA4001 2022-23/final4.csv')\n",
    "\n",
    "# Create the subcategories\n",
    "offence = df2[[\"FGA\", \"FG%\", \"3P\", \"3P%\", \"2P\", \"2P%\", \"FTA\", \"FT%\", \"ORB\", \"AST\"]]\n",
    "defence = df2[[\"DRB\", \"BLK\", \"STL\", \"TRB\"]]\n",
    "best = df2[[\"FG\", \"PTS\", \"FGA\", \"2PA\", \"2P\", \"FTA\", \"FT\", \"DRB\", \"TRB\", \"AST\"]]\n",
    "df2 = df2.drop(columns=[\"Player salary\", \"Salary Cap\", \"Rk\", \"MP\", \"TOV\", \"GS\"])\n"
   ]
  },
  {
   "cell_type": "code",
   "execution_count": 20,
   "id": "ea002bad",
   "metadata": {},
   "outputs": [
    {
     "name": "stdout",
     "output_type": "stream",
     "text": [
      "Mean squared error:  0.005536786047100337\n",
      "R2 score:  -0.09545608083226798\n",
      "Average mean squared error:  3.4756974558068656e-06\n",
      "Root mean squared error:  0.07440958303270041\n"
     ]
    }
   ],
   "source": [
    "# Import DecisionTreeRegressor class\n",
    "from sklearn.tree import DecisionTreeRegressor\n",
    "\n",
    "# Split the data into training and test sets\n",
    "X_train, X_test, y_train, y_test = train_test_split(offence, df2['%_of_cap'], test_size=0.2, random_state=0)\n",
    "\n",
    "# Initialize the decision tree regressor\n",
    "regressor = DecisionTreeRegressor()\n",
    "\n",
    "# Fit the regressor to the training data\n",
    "regressor.fit(X_train, y_train)\n",
    "\n",
    "# Predict the values for the test set\n",
    "y_pred = regressor.predict(X_test)\n",
    "\n",
    "# Calculate the mean squared error\n",
    "mse = mean_squared_error(y_test, y_pred)\n",
    "print(\"Mean squared error: \", mse)\n",
    "\n",
    "# Calculate the r2 score\n",
    "r2 = r2_score(y_test, y_pred)\n",
    "print(\"R2 score: \", r2)\n",
    "# Calculate the average mean squared error\n",
    "amse = mse / len(y_test)\n",
    "print(\"Average mean squared error: \", amse)\n",
    "\n",
    "# Calculate the root mean squared error\n",
    "rmse = np.sqrt(mse)\n",
    "print(\"Root mean squared error: \", rmse)"
   ]
  },
  {
   "cell_type": "code",
   "execution_count": 21,
   "id": "75281fdf",
   "metadata": {},
   "outputs": [
    {
     "name": "stdout",
     "output_type": "stream",
     "text": [
      "Mean squared error:  0.006829509164951532\n",
      "R2 score:  -0.3512220411269005\n",
      "Average mean squared error:  4.287199726899894e-06\n",
      "Root mean squared error:  0.08264084441092995\n"
     ]
    }
   ],
   "source": [
    "# Split the data into training and test sets\n",
    "X_train, X_test, y_train, y_test = train_test_split(defence, df2['%_of_cap'], test_size=0.2, random_state=0)\n",
    "\n",
    "# Initialize the decision tree regressor\n",
    "regressor = DecisionTreeRegressor()\n",
    "\n",
    "# Fit the regressor to the training data\n",
    "regressor.fit(X_train, y_train)\n",
    "\n",
    "# Predict the values for the test set\n",
    "y_pred = regressor.predict(X_test)\n",
    "\n",
    "# Calculate the mean squared error\n",
    "mse = mean_squared_error(y_test, y_pred)\n",
    "print(\"Mean squared error: \", mse)\n",
    "\n",
    "# Calculate the r2 score\n",
    "r2 = r2_score(y_test, y_pred)\n",
    "print(\"R2 score: \", r2)\n",
    "# Calculate the average mean squared error\n",
    "amse = mse / len(y_test)\n",
    "print(\"Average mean squared error: \", amse)\n",
    "\n",
    "# Calculate the root mean squared error\n",
    "rmse = np.sqrt(mse)\n",
    "print(\"Root mean squared error: \", rmse)"
   ]
  },
  {
   "cell_type": "code",
   "execution_count": 22,
   "id": "ee3d1bd7",
   "metadata": {},
   "outputs": [
    {
     "name": "stdout",
     "output_type": "stream",
     "text": [
      "Mean squared error:  0.005505513385821644\n",
      "R2 score:  -0.08926876807173745\n",
      "Average mean squared error:  3.456066155569142e-06\n",
      "Root mean squared error:  0.07419914679982273\n"
     ]
    }
   ],
   "source": [
    "# Split the data into training and test sets\n",
    "X_train, X_test, y_train, y_test = train_test_split(best, df2['%_of_cap'], test_size=0.2, random_state=0)\n",
    "\n",
    "# Initialize the decision tree regressor\n",
    "regressor = DecisionTreeRegressor()\n",
    "\n",
    "# Fit the regressor to the training data\n",
    "regressor.fit(X_train, y_train)\n",
    "\n",
    "# Predict the values for the test set\n",
    "y_pred = regressor.predict(X_test)\n",
    "\n",
    "# Calculate the mean squared error\n",
    "mse = mean_squared_error(y_test, y_pred)\n",
    "print(\"Mean squared error: \", mse)\n",
    "\n",
    "# Calculate the r2 score\n",
    "r2 = r2_score(y_test, y_pred)\n",
    "print(\"R2 score: \", r2)\n",
    "# Calculate the average mean squared error\n",
    "amse = mse / len(y_test)\n",
    "print(\"Average mean squared error: \", amse)\n",
    "\n",
    "# Calculate the root mean squared error\n",
    "rmse = np.sqrt(mse)\n",
    "print(\"Root mean squared error: \", rmse)"
   ]
  },
  {
   "cell_type": "code",
   "execution_count": 19,
   "id": "8857751a",
   "metadata": {},
   "outputs": [
    {
     "name": "stdout",
     "output_type": "stream",
     "text": [
      "Mean squared error:  0.0029269137161045755\n",
      "R2 score:  0.42090855577536757\n",
      "Average mean squared error:  1.8373595204674045e-06\n",
      "Root mean squared error:  0.05410095855070015\n"
     ]
    }
   ],
   "source": [
    "# Import RandomForestRegressor class\n",
    "from sklearn.ensemble import RandomForestRegressor\n",
    "\n",
    "# Split the data into training and test sets\n",
    "X_train, X_test, y_train, y_test = train_test_split(offence, df2['%_of_cap'], test_size=0.2, random_state=0)\n",
    "\n",
    "# Initialize the random forest regressor\n",
    "regressor = RandomForestRegressor()\n",
    "\n",
    "# Fit the regressor to the training data\n",
    "regressor.fit(X_train, y_train)\n",
    "\n",
    "# Predict the values for the test set\n",
    "y_pred = regressor.predict(X_test)\n",
    "\n",
    "# Calculate the mean squared error\n",
    "mse = mean_squared_error(y_test, y_pred)\n",
    "print(\"Mean squared error: \", mse)\n",
    "\n",
    "# Calculate the r2 score\n",
    "r2 = r2_score(y_test, y_pred)\n",
    "print(\"R2 score: \", r2)\n",
    "# Calculate the average mean squared error\n",
    "amse = mse / len(y_test)\n",
    "print(\"Average mean squared error: \", amse)\n",
    "\n",
    "# Calculate the root mean squared error\n",
    "rmse = np.sqrt(mse)\n",
    "print(\"Root mean squared error: \", rmse)\n"
   ]
  },
  {
   "cell_type": "code",
   "execution_count": 18,
   "id": "c5b7d05f",
   "metadata": {},
   "outputs": [
    {
     "name": "stdout",
     "output_type": "stream",
     "text": [
      "Mean squared error:  0.0038137902141496655\n",
      "R2 score:  0.24543956628108832\n",
      "Average mean squared error:  2.3940930408974672e-06\n",
      "Root mean squared error:  0.061755892141152534\n"
     ]
    }
   ],
   "source": [
    "# Import RandomForestRegressor class\n",
    "from sklearn.ensemble import RandomForestRegressor\n",
    "\n",
    "# Split the data into training and test sets\n",
    "X_train, X_test, y_train, y_test = train_test_split(defence, df2['%_of_cap'], test_size=0.2, random_state=0)\n",
    "\n",
    "# Initialize the random forest regressor\n",
    "regressor = RandomForestRegressor()\n",
    "\n",
    "# Fit the regressor to the training data\n",
    "regressor.fit(X_train, y_train)\n",
    "\n",
    "# Predict the values for the test set\n",
    "y_pred = regressor.predict(X_test)\n",
    "\n",
    "# Calculate the mean squared error\n",
    "mse = mean_squared_error(y_test, y_pred)\n",
    "print(\"Mean squared error: \", mse)\n",
    "\n",
    "# Calculate the r2 score\n",
    "r2 = r2_score(y_test, y_pred)\n",
    "print(\"R2 score: \", r2)\n",
    "# Calculate the average mean squared error\n",
    "amse = mse / len(y_test)\n",
    "print(\"Average mean squared error: \", amse)\n",
    "\n",
    "# Calculate the root mean squared error\n",
    "rmse = np.sqrt(mse)\n",
    "print(\"Root mean squared error: \", rmse)"
   ]
  },
  {
   "cell_type": "code",
   "execution_count": 17,
   "id": "83bec89c",
   "metadata": {},
   "outputs": [
    {
     "name": "stdout",
     "output_type": "stream",
     "text": [
      "Mean squared error:  0.002858688130507343\n",
      "R2 score:  0.4344070243770163\n",
      "Average mean squared error:  1.7945311553718413e-06\n",
      "Root mean squared error:  0.05346670113731857\n"
     ]
    }
   ],
   "source": [
    "# Import RandomForestRegressor class\n",
    "from sklearn.ensemble import RandomForestRegressor\n",
    "\n",
    "# Split the data into training and test sets\n",
    "X_train, X_test, y_train, y_test = train_test_split(best, df2['%_of_cap'], test_size=0.2, random_state=0)\n",
    "\n",
    "# Initialize the random forest regressor\n",
    "regressor = RandomForestRegressor()\n",
    "\n",
    "# Fit the regressor to the training data\n",
    "regressor.fit(X_train, y_train)\n",
    "\n",
    "# Predict the values for the test set\n",
    "y_pred = regressor.predict(X_test)\n",
    "\n",
    "# Calculate the mean squared error\n",
    "mse = mean_squared_error(y_test, y_pred)\n",
    "print(\"Mean squared error: \", mse)\n",
    "\n",
    "# Calculate the r2 score\n",
    "r2 = r2_score(y_test, y_pred)\n",
    "print(\"R2 score: \", r2)\n",
    "# Calculate the average mean squared error\n",
    "amse = mse / len(y_test)\n",
    "print(\"Average mean squared error: \", amse)\n",
    "\n",
    "# Calculate the root mean squared error\n",
    "rmse = np.sqrt(mse)\n",
    "print(\"Root mean squared error: \", rmse)"
   ]
  },
  {
   "cell_type": "code",
   "execution_count": null,
   "id": "aac07abd",
   "metadata": {},
   "outputs": [],
   "source": []
  }
 ],
 "metadata": {
  "kernelspec": {
   "display_name": "Python 3 (ipykernel)",
   "language": "python",
   "name": "python3"
  },
  "language_info": {
   "codemirror_mode": {
    "name": "ipython",
    "version": 3
   },
   "file_extension": ".py",
   "mimetype": "text/x-python",
   "name": "python",
   "nbconvert_exporter": "python",
   "pygments_lexer": "ipython3",
   "version": "3.9.7"
  }
 },
 "nbformat": 4,
 "nbformat_minor": 5
}
