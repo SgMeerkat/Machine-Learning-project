{
 "cells": [
  {
   "cell_type": "code",
   "execution_count": 6,
   "id": "fc44a2e8",
   "metadata": {},
   "outputs": [
    {
     "name": "stdout",
     "output_type": "stream",
     "text": [
      "Mean squared error: 0.00296490306960675\n",
      "R2 score: 0.41427139302822247\n"
     ]
    }
   ],
   "source": [
    "import pandas as pd\n",
    "from sklearn.linear_model import LinearRegression\n",
    "from sklearn.svm import SVR\n",
    "from sklearn.linear_model import Lasso\n",
    "import numpy as np\n",
    "from sklearn.metrics import mean_squared_error\n",
    "from sklearn.metrics import r2_score\n",
    "from sklearn.model_selection import train_test_split\n",
    "\n",
    "# Load the CSV file into a data frame\n",
    "df2 = pd.read_csv('C:/Users/Dell/Documents/Business Analytics Year 4/Applied Predictive Analytics DATA4001 2022-23/final4.csv')\n",
    "df2 = df2.drop(columns=[\"Player salary\", \"Salary Cap\", \"Rk\", \"MP\", \"TOV\", \"GS\"])\n",
    "\n",
    "# Create the subcategories\n",
    "offence = df2[[\"FGA\", \"FG%\", \"3P\", \"3P%\", \"2P\", \"2P%\", \"FTA\", \"FT%\", \"ORB\", \"AST\"]]\n",
    "defence = df2[[\"DRB\", \"BLK\", \"STL\", \"TRB\"]]\n",
    "best = df2[[\"FG\", \"PTS\", \"FGA\", \"2PA\", \"2P\", \"FTA\", \"FT\", \"DRB\", \"TRB\", \"AST\"]]\n",
    "\n",
    "# Split the data into training and testing sets\n",
    "X = offence\n",
    "y = df2['%_of_cap']\n",
    "X_train, X_test, y_train, y_test = train_test_split(X, y, test_size=0.2, random_state=42)\n",
    "\n",
    "# Fit base models on training data\n",
    "lr = LinearRegression()\n",
    "lr.fit(X_train, y_train)\n",
    "\n",
    "svr = SVR()\n",
    "svr.fit(X_train, y_train)\n",
    "\n",
    "lasso = Lasso()\n",
    "lasso.fit(X_train, y_train)\n",
    "\n",
    "# Make predictions on test data using base models\n",
    "lr_predictions = lr.predict(X_test)\n",
    "svr_predictions = svr.predict(X_test)\n",
    "lasso_predictions = lasso.predict(X_test)\n",
    "\n",
    "# Stack base model predictions using column_stack\n",
    "base_predictions = np.column_stack((lr_predictions, svr_predictions, lasso_predictions))\n",
    "\n",
    "# Fit meta-model on stacked predictions and make final prediction\n",
    "meta_model = LinearRegression()\n",
    "meta_model.fit(base_predictions, y_test)\n",
    "final_prediction = meta_model.predict(base_predictions)\n",
    "\n",
    "# Calculate performance metrics\n",
    "mse = mean_squared_error(y_test, final_prediction)\n",
    "r2 = r2_score(y_test, final_prediction)\n",
    "\n",
    "print(\"Mean squared error:\", mse)\n",
    "print(\"R2 score:\", r2)\n"
   ]
  },
  {
   "cell_type": "code",
   "execution_count": 7,
   "id": "12d97aab",
   "metadata": {},
   "outputs": [
    {
     "name": "stdout",
     "output_type": "stream",
     "text": [
      "Mean squared error: 0.003207449801527929\n",
      "R2 score: 0.36635530400997596\n"
     ]
    }
   ],
   "source": [
    "# Split the data into training and testing sets\n",
    "X = defence\n",
    "y = df2['%_of_cap']\n",
    "X_train, X_test, y_train, y_test = train_test_split(X, y, test_size=0.2, random_state=42)\n",
    "\n",
    "# Fit base models on training data\n",
    "lr = LinearRegression()\n",
    "lr.fit(X_train, y_train)\n",
    "\n",
    "svr = SVR()\n",
    "svr.fit(X_train, y_train)\n",
    "\n",
    "lasso = Lasso()\n",
    "lasso.fit(X_train, y_train)\n",
    "\n",
    "# Make predictions on test data using base models\n",
    "lr_predictions = lr.predict(X_test)\n",
    "svr_predictions = svr.predict(X_test)\n",
    "lasso_predictions = lasso.predict(X_test)\n",
    "\n",
    "# Stack base model predictions using column_stack\n",
    "base_predictions = np.column_stack((lr_predictions, svr_predictions, lasso_predictions))\n",
    "\n",
    "# Fit meta-model on stacked predictions and make final prediction\n",
    "meta_model = LinearRegression()\n",
    "meta_model.fit(base_predictions, y_test)\n",
    "final_prediction = meta_model.predict(base_predictions)\n",
    "\n",
    "# Calculate performance metrics\n",
    "mse = mean_squared_error(y_test, final_prediction)\n",
    "r2 = r2_score(y_test, final_prediction)\n",
    "\n",
    "print(\"Mean squared error:\", mse)\n",
    "print(\"R2 score:\", r2)\n"
   ]
  },
  {
   "cell_type": "code",
   "execution_count": 8,
   "id": "b32792a2",
   "metadata": {},
   "outputs": [
    {
     "name": "stdout",
     "output_type": "stream",
     "text": [
      "Mean squared error: 0.0028086427553574173\n",
      "R2 score: 0.44514125084194633\n"
     ]
    }
   ],
   "source": [
    "# Split the data into training and testing sets\n",
    "X = best\n",
    "y = df2['%_of_cap']\n",
    "X_train, X_test, y_train, y_test = train_test_split(X, y, test_size=0.2, random_state=42)\n",
    "\n",
    "# Fit base models on training data\n",
    "lr = LinearRegression()\n",
    "lr.fit(X_train, y_train)\n",
    "\n",
    "svr = SVR()\n",
    "svr.fit(X_train, y_train)\n",
    "\n",
    "lasso = Lasso()\n",
    "lasso.fit(X_train, y_train)\n",
    "\n",
    "# Make predictions on test data using base models\n",
    "lr_predictions = lr.predict(X_test)\n",
    "svr_predictions = svr.predict(X_test)\n",
    "lasso_predictions = lasso.predict(X_test)\n",
    "\n",
    "# Stack base model predictions using column_stack\n",
    "base_predictions = np.column_stack((lr_predictions, svr_predictions, lasso_predictions))\n",
    "\n",
    "# Fit meta-model on stacked predictions and make final prediction\n",
    "meta_model = LinearRegression()\n",
    "meta_model.fit(base_predictions, y_test)\n",
    "final_prediction = meta_model.predict(base_predictions)\n",
    "\n",
    "# Calculate performance metrics\n",
    "mse = mean_squared_error(y_test, final_prediction)\n",
    "r2 = r2_score(y_test, final_prediction)\n",
    "\n",
    "print(\"Mean squared error:\", mse)\n",
    "print(\"R2 score:\", r2)\n"
   ]
  },
  {
   "cell_type": "code",
   "execution_count": null,
   "id": "27a80687",
   "metadata": {},
   "outputs": [],
   "source": []
  }
 ],
 "metadata": {
  "kernelspec": {
   "display_name": "Python 3 (ipykernel)",
   "language": "python",
   "name": "python3"
  },
  "language_info": {
   "codemirror_mode": {
    "name": "ipython",
    "version": 3
   },
   "file_extension": ".py",
   "mimetype": "text/x-python",
   "name": "python",
   "nbconvert_exporter": "python",
   "pygments_lexer": "ipython3",
   "version": "3.9.7"
  }
 },
 "nbformat": 4,
 "nbformat_minor": 5
}
